{
 "cells": [
  {
   "cell_type": "markdown",
   "id": "f3ef2538",
   "metadata": {},
   "source": [
    "# Práctica BiciMad Grupo 20\n",
    "\n",
    "Por Lucía del Nido Herranz, Víctor Güejes Cepeda y Celia Vaquero Espinosa\n",
    "\n",
    "En esta práctica vamos a realizar un estudio sobre los datos de BiciMad de todos los meses del año 2018. Para ello vamos a utilizar los DataFrames de Spark en python.\n"
   ]
  },
  {
   "cell_type": "code",
   "execution_count": 1,
   "id": "605e558e",
   "metadata": {},
   "outputs": [
    {
     "name": "stderr",
     "output_type": "stream",
     "text": [
      "22/05/22 12:50:39 WARN Utils: Your hostname, ldelnido-VirtualBox resolves to a loopback address: 127.0.1.1; using 10.0.2.15 instead (on interface enp0s3)\n",
      "22/05/22 12:50:39 WARN Utils: Set SPARK_LOCAL_IP if you need to bind to another address\n",
      "Using Spark's default log4j profile: org/apache/spark/log4j-defaults.properties\n",
      "Setting default log level to \"WARN\".\n",
      "To adjust logging level use sc.setLogLevel(newLevel). For SparkR, use setLogLevel(newLevel).\n",
      "22/05/22 12:50:46 WARN NativeCodeLoader: Unable to load native-hadoop library for your platform... using builtin-java classes where applicable\n"
     ]
    }
   ],
   "source": [
    "from pyspark.sql import SparkSession\n",
    "spark = SparkSession.builder.getOrCreate()\n",
    "from functools import reduce\n",
    "from pyspark.sql import DataFrame\n",
    "from pyspark.sql.functions import col,udf,isnull,collect_list, struct\n",
    "from pyspark.sql.types import IntegerType, StringType, BooleanType\n",
    "\n",
    "import warnings\n",
    "warnings.filterwarnings('ignore')"
   ]
  },
  {
   "cell_type": "code",
   "execution_count": 2,
   "id": "69bb732e",
   "metadata": {},
   "outputs": [],
   "source": [
    "\n",
    "FILES = [\"201801_Usage_Bicimad.json\",\n",
    "         \"201802_Usage_Bicimad.json\",\n",
    "         \"201803_Usage_Bicimad.json\",\n",
    "         \"201804_Usage_Bicimad.json\",\n",
    "         \"201805_Usage_Bicimad.json\",\n",
    "         \"201806_Usage_Bicimad.json\",\n",
    "         \"201807_Usage_Bicimad.json\",\n",
    "         \"201808_Usage_Bicimad.json\",\n",
    "         \"201809_Usage_Bicimad.json\",\n",
    "         \"201810_Usage_Bicimad.json\",\n",
    "         \"201811_Usage_Bicimad.json\",\n",
    "         \"201812_Usage_Bicimad.json\"]\n"
   ]
  },
  {
   "cell_type": "code",
   "execution_count": 53,
   "id": "625af83d",
   "metadata": {},
   "outputs": [],
   "source": [
    "def union_archivos():\n",
    "    '''\n",
    "    recibe la lista de archivos FILES y los une en un unico rdd\n",
    "    '''\n",
    "    rddlst = []\n",
    "    for f in FILES:\n",
    "        df = spark.read.json(f)\n",
    "        df = df.drop('_corrupt_record','track').dropna()\n",
    "        rddlst.append(df)\n",
    "    df = reduce(DataFrame.unionAll, rddlst)\n",
    "    return df"
   ]
  },
  {
   "cell_type": "code",
   "execution_count": 54,
   "id": "1e75e6aa",
   "metadata": {},
   "outputs": [
    {
     "name": "stderr",
     "output_type": "stream",
     "text": [
      "                                                                                \r"
     ]
    },
    {
     "name": "stdout",
     "output_type": "stream",
     "text": [
      "+--------+--------------+----------------+-----------+--------------------+---------+--------+\n",
      "|ageRange|idplug_station|idunplug_station|travel_time|       user_day_code|user_type|zip_code|\n",
      "+--------+--------------+----------------+-----------+--------------------+---------+--------+\n",
      "|       5|             7|               6|        284|b00665a845be18ed9...|        1|   28010|\n",
      "|       0|           117|              24|        666|65a82ac6353d9e8b2...|        1|        |\n",
      "|       0|           117|              24|        662|51b7da733980586e1...|        1|        |\n",
      "|       3|           110|              82|        708|0af09bb0e23045fb7...|        1|   28005|\n",
      "|       4|            58|             169|        171|500e6780660a1fb23...|        1|   28004|\n",
      "|       5|            74|              92|        427|40816bb3978f9931f...|        1|   28006|\n",
      "|       0|            18|              34|        166|ed325bd1941a25394...|        1|        |\n",
      "|       4|            17|             128|        722|0261bfd1f1bc0a6c5...|        1|   28005|\n",
      "|       4|            63|               3|        254|1a172d92c5a570303...|        1|   28004|\n",
      "|       5|           134|             135|        305|b7174a2ee06b23318...|        1|   28012|\n",
      "|       5|            82|             107|        477|205bd680ee239a407...|        1|   28007|\n",
      "|       4|            31|             168|        736|64e4785eca75cef74...|        1|   28003|\n",
      "|       3|            49|             132|        560|a0cf408722fbfa76e...|        1|   28008|\n",
      "|       4|            12|               3|        499|7f5e1843d0078b858...|        1|   28028|\n",
      "|       3|             9|             149|        369|c6beca13cd1d76959...|        1|   28003|\n",
      "|       3|           118|             149|        335|4e6a2792bee3876fb...|        1|   28003|\n",
      "|       3|            12|               3|        712|ae0f90b2701f9f018...|        1|        |\n",
      "|       3|           140|             146|        286|7c07e33674df07c02...|        1|   28002|\n",
      "|       0|           140|             140|        334|8bc6e5f0d6574cd4e...|        2|        |\n",
      "|       4|           106|              91|        587|b0ed6e14c736d2935...|        1|   28007|\n",
      "+--------+--------------+----------------+-----------+--------------------+---------+--------+\n",
      "only showing top 20 rows\n",
      "\n"
     ]
    }
   ],
   "source": [
    "df = union_archivos()\n",
    "df = df.drop('_id','unplug_hourTime','idplug_base','idunplug_base','track')\n",
    "df.show()"
   ]
  },
  {
   "cell_type": "markdown",
   "id": "d1776ab6",
   "metadata": {},
   "source": [
    "# Rangos de edades\n",
    "\n",
    "Vamos a contar los usuarios que usan las bicis por cada rango de edad\n",
    "Recordamos que, según los datos de BiciMad, los rangos de edades son:\n",
    "\n",
    "    0 : edad sin determinar\n",
    "    1 : 0-16 años\n",
    "    2 : 17-18 años\n",
    "    3 : 19-26 años\n",
    "    4 : 27-40 años\n",
    "    5 : 41-65 años\n",
    "    6 : 66+ años\n",
    "    \n",
    "Suponemos que se distinguen entre menores de 26 y mayores de 27 años porque hasta los 26 años se puede obtener el abono jóven y a partir de los 27 se utiliza el abono normal (más caro) de transporte público"
   ]
  },
  {
   "cell_type": "code",
   "execution_count": 55,
   "id": "bd6571d1",
   "metadata": {
    "scrolled": false
   },
   "outputs": [
    {
     "name": "stderr",
     "output_type": "stream",
     "text": [
      "[Stage 102:======================================================>(57 + 1) / 58]\r"
     ]
    },
    {
     "name": "stdout",
     "output_type": "stream",
     "text": [
      "+--------+-------+\n",
      "|ageRange|  count|\n",
      "+--------+-------+\n",
      "|       6|  14110|\n",
      "|       2|  37682|\n",
      "|       1|  43475|\n",
      "|       3| 212766|\n",
      "|       5| 661210|\n",
      "|       4|1093697|\n",
      "|       0|1194862|\n",
      "+--------+-------+\n",
      "\n"
     ]
    },
    {
     "name": "stderr",
     "output_type": "stream",
     "text": [
      "\r",
      "                                                                                \r"
     ]
    }
   ],
   "source": [
    "df_a = df.filter((df['ageRange']==0) | (df['ageRange']==1) | (df['ageRange']==2) | (df['ageRange']==3) | (df['ageRange']==4) | (df['ageRange']==5) | (df['ageRange']==6))\n",
    "df_a.groupBy('ageRange').count().sort('count', ascending = True).show() #esto no modifica el rdd"
   ]
  },
  {
   "cell_type": "markdown",
   "id": "7e6ef93d",
   "metadata": {},
   "source": [
    "Como podemos ver, el rango de edad que más ha utilizador este servicio es el 4, y el que menos el 6. Esto prueba nuestra hipótesis inicial, ya que la gente que puede usar el abono joven en vez del abono general, prefiere usar transporte público a BiciMad"
   ]
  },
  {
   "cell_type": "markdown",
   "id": "b7b1be54",
   "metadata": {},
   "source": [
    "# Residencia\n",
    "\n",
    "Nos quedamos con los usuarios del tipo 1 (usuarios anuales) y queremos ver de dónde son.\n",
    "Recordamos que los tipos de usuarios son:\n",
    "\n",
    "    0: No se ha podido determinar el tipo de usuario\n",
    "    1: Usuario anual (poseedor de un pase anual)\n",
    "    2: Usuario ocasional\n",
    "    3: Trabajador de la empresa\n",
    "\n",
    "Nos quedamos con los usuarios del tipo 1 y quitamos los usuarios sin codigo postal:"
   ]
  },
  {
   "cell_type": "code",
   "execution_count": 56,
   "id": "5c4205b2",
   "metadata": {},
   "outputs": [],
   "source": [
    "df1 = df.filter(df[\"user_type\"]==1).filter(df.zip_code != '')"
   ]
  },
  {
   "cell_type": "markdown",
   "id": "7d88c267",
   "metadata": {},
   "source": [
    "Convertimos los códigos postales a enteros."
   ]
  },
  {
   "cell_type": "code",
   "execution_count": 57,
   "id": "35bb953d",
   "metadata": {},
   "outputs": [],
   "source": [
    "df1 = df1.withColumn(\"zip_code\",col(\"zip_code\").cast(\"Integer\"))"
   ]
  },
  {
   "cell_type": "markdown",
   "id": "02aa27e1",
   "metadata": {},
   "source": [
    "Agrupamos entre los que son de madrid (zip_code empieza por 28) y los que no. Nos libramos de los valores nulos y hacemos el recuento final:"
   ]
  },
  {
   "cell_type": "code",
   "execution_count": 58,
   "id": "1a1a61d2",
   "metadata": {
    "scrolled": true
   },
   "outputs": [
    {
     "name": "stderr",
     "output_type": "stream",
     "text": [
      "[Stage 105:======================================================>(57 + 1) / 58]\r"
     ]
    },
    {
     "name": "stdout",
     "output_type": "stream",
     "text": [
      "+----------------+-------+\n",
      "|Madrid_residents|  count|\n",
      "+----------------+-------+\n",
      "|           false|  30892|\n",
      "|            true|1779617|\n",
      "+----------------+-------+\n",
      "\n"
     ]
    },
    {
     "name": "stderr",
     "output_type": "stream",
     "text": [
      "\r",
      "                                                                                \r"
     ]
    }
   ],
   "source": [
    "df1 = df1.withColumn(\"zip_code\",((28000 <= col(\"zip_code\")) & (col(\"zip_code\") < 29000))).withColumnRenamed (\"zip_code\", \"Madrid_residents\")\n",
    "\n",
    "\n",
    "tabla = df1.groupBy('Madrid_residents').count().sort('count', ascending = True)\n",
    "tabla = tabla.filter((tabla['Madrid_residents']=='true') | (tabla['Madrid_residents']=='false'))\n",
    "tabla.show()\n"
   ]
  },
  {
   "cell_type": "markdown",
   "id": "64f10346",
   "metadata": {},
   "source": [
    "# Viajes por usuario\n",
    "\n",
    "Primero vemos los viajes que hace cada usuario cada día. Lo hacemos creando una lista de listas de la forma [estacion origen, estacion llegada]\n",
    "\n",
    "Después contamos la cantidad de viajes y finalmente los agrupamos por esa cantidad."
   ]
  },
  {
   "cell_type": "code",
   "execution_count": 62,
   "id": "897bc96a",
   "metadata": {},
   "outputs": [
    {
     "name": "stderr",
     "output_type": "stream",
     "text": [
      "[Stage 125:>                                                        (0 + 1) / 1]\r"
     ]
    },
    {
     "name": "stdout",
     "output_type": "stream",
     "text": [
      "+--------------------+--------------------+\n",
      "|       user_day_code|            stations|\n",
      "+--------------------+--------------------+\n",
      "|00001f08f2d92c952...|          [{1, 168}]|\n",
      "|000030519f5ad9c9b...|          [{53, 56}]|\n",
      "|0000467a2b4d460a7...|         [{103, 55}]|\n",
      "|000049d964247d294...|         [{59, 139}]|\n",
      "|00008d71d44d764ea...|          [{23, 19}]|\n",
      "|0000987c66b350b3f...|         [{75, 103}]|\n",
      "|0000a997b548a53c1...|        [{137, 153}]|\n",
      "|0000ab4ce8b17a0a6...|[{42, 113}, {91, ...|\n",
      "|0000cd9044767a1f3...|[{157, 93}, {93, ...|\n",
      "|0000d37943751e6ae...|[{128, 63}, {63, ...|\n",
      "|0001028318cb5f1cf...|         [{107, 66}]|\n",
      "|00013b298e099ca64...|          [{64, 64}]|\n",
      "|00015bc9da21e9e2b...|         [{77, 166}]|\n",
      "|0001a165f20af3d17...|         [{165, 62}]|\n",
      "|0001d7326dbe13518...|[{59, 82}, {89, 1...|\n",
      "|00020f9f14c68c77b...|[{162, 169}, {169...|\n",
      "|0002173c5a82aa601...|          [{56, 18}]|\n",
      "|000221dd3607d8ddb...|          [{35, 33}]|\n",
      "|00023b3e123b9bd9e...|          [{45, 73}]|\n",
      "|00023c56ecaabf967...|          [{86, 80}]|\n",
      "+--------------------+--------------------+\n",
      "only showing top 20 rows\n",
      "\n"
     ]
    },
    {
     "name": "stderr",
     "output_type": "stream",
     "text": [
      "\r",
      "                                                                                \r"
     ]
    }
   ],
   "source": [
    "df2 = df.filter(df.user_day_code != '')\n",
    "df2 = df2.groupBy('user_day_code').agg(collect_list(struct('idunplug_station','idplug_station')).alias('stations'))\n",
    "df2.show()"
   ]
  },
  {
   "cell_type": "markdown",
   "id": "be837ddf",
   "metadata": {},
   "source": [
    "Ahora nos interesa saber cuántos viajes realiza en un día cada usuario:"
   ]
  },
  {
   "cell_type": "code",
   "execution_count": 63,
   "id": "4ff56125",
   "metadata": {
    "scrolled": true
   },
   "outputs": [
    {
     "name": "stdout",
     "output_type": "stream",
     "text": [
      "numero de viajes por usuario\n"
     ]
    },
    {
     "name": "stderr",
     "output_type": "stream",
     "text": [
      "[Stage 128:>                                                        (0 + 1) / 1]\r"
     ]
    },
    {
     "name": "stdout",
     "output_type": "stream",
     "text": [
      "+--------------------+---------------+\n",
      "|       user_day_code|number_of_trips|\n",
      "+--------------------+---------------+\n",
      "|00001f08f2d92c952...|              1|\n",
      "|000030519f5ad9c9b...|              1|\n",
      "|0000467a2b4d460a7...|              1|\n",
      "|000049d964247d294...|              1|\n",
      "|00008d71d44d764ea...|              1|\n",
      "|0000987c66b350b3f...|              1|\n",
      "|0000a997b548a53c1...|              1|\n",
      "|0000ab4ce8b17a0a6...|              2|\n",
      "|0000cd9044767a1f3...|              2|\n",
      "|0000d37943751e6ae...|              2|\n",
      "|0001028318cb5f1cf...|              1|\n",
      "|00013b298e099ca64...|              1|\n",
      "|00015bc9da21e9e2b...|              1|\n",
      "|0001a165f20af3d17...|              1|\n",
      "|0001d7326dbe13518...|              3|\n",
      "|00020f9f14c68c77b...|              2|\n",
      "|0002173c5a82aa601...|              1|\n",
      "|000221dd3607d8ddb...|              1|\n",
      "|00023b3e123b9bd9e...|              1|\n",
      "|00023c56ecaabf967...|              1|\n",
      "+--------------------+---------------+\n",
      "only showing top 20 rows\n",
      "\n"
     ]
    },
    {
     "name": "stderr",
     "output_type": "stream",
     "text": [
      "\r",
      "                                                                                \r"
     ]
    }
   ],
   "source": [
    "print('numero de viajes por usuario')\n",
    "trips_len = udf(lambda x: len(x), IntegerType())\n",
    "dfv = df2.withColumn(\"stations\",trips_len(col(\"stations\"))).withColumnRenamed (\"stations\", \"number_of_trips\")\n",
    "dfv.show()"
   ]
  },
  {
   "cell_type": "markdown",
   "id": "0955d1dc",
   "metadata": {},
   "source": [
    "Vamos a ver cuántos usuarios han realizado 1 viaje por día, 2 viajes, 3 viajes... "
   ]
  },
  {
   "cell_type": "code",
   "execution_count": 64,
   "id": "a02dd187",
   "metadata": {},
   "outputs": [
    {
     "name": "stdout",
     "output_type": "stream",
     "text": [
      "recuento de usuarios por numero de viajes\n"
     ]
    },
    {
     "name": "stderr",
     "output_type": "stream",
     "text": [
      "[Stage 131:======================================>                  (2 + 1) / 3]\r"
     ]
    },
    {
     "name": "stdout",
     "output_type": "stream",
     "text": [
      "+---------------+-----+\n",
      "|number_of_trips|count|\n",
      "+---------------+-----+\n",
      "|            299|    1|\n",
      "|            298|    1|\n",
      "|            270|    1|\n",
      "|            268|    1|\n",
      "|            265|    1|\n",
      "|            260|    1|\n",
      "|            247|    1|\n",
      "|            235|    1|\n",
      "|            232|    1|\n",
      "|            231|    1|\n",
      "|            219|    1|\n",
      "|            211|    1|\n",
      "|            210|    1|\n",
      "|            207|    1|\n",
      "|            202|    2|\n",
      "|            201|    1|\n",
      "|            198|    2|\n",
      "|            196|    1|\n",
      "|            195|    2|\n",
      "|            194|    1|\n",
      "+---------------+-----+\n",
      "only showing top 20 rows\n",
      "\n"
     ]
    },
    {
     "name": "stderr",
     "output_type": "stream",
     "text": [
      "\r",
      "                                                                                \r"
     ]
    }
   ],
   "source": [
    "print('recuento de usuarios por numero de viajes')\n",
    "dfv.groupBy('number_of_trips').count().sort('number_of_trips', ascending = False).show()"
   ]
  },
  {
   "cell_type": "markdown",
   "id": "aff25cf4",
   "metadata": {},
   "source": [
    "# Viajes de ida y vuelta\n",
    "\n",
    "Vamos a comprobar si la gente usa las bicis para viajes de ida y vuelta. Diremos que un usuario ha realizado un viaje de ida y vuelta cuando la estación de salida de uno de sus viajes coincida con la de llegada de otro posterior. Además el usuario debe haber realizado unicamente 2 viajes en un día. Para detectar este tipo de viajes creamos la función 'round_trip(x)':"
   ]
  },
  {
   "cell_type": "code",
   "execution_count": 65,
   "id": "43b5bc67",
   "metadata": {},
   "outputs": [],
   "source": [
    "def round_trip(x):\n",
    "    result = False\n",
    "    if len(x) == 2: #solo los viajes con longitud 2 pueden ser de ida y vuelta\n",
    "        result = x[0][1] == x[1][0] and x[0][0] == x[1][1]\n",
    "    return result"
   ]
  },
  {
   "cell_type": "code",
   "execution_count": 66,
   "id": "7eb021fd",
   "metadata": {},
   "outputs": [
    {
     "name": "stderr",
     "output_type": "stream",
     "text": [
      "[Stage 137:>                                                        (0 + 1) / 1]\r"
     ]
    },
    {
     "name": "stdout",
     "output_type": "stream",
     "text": [
      "+--------------------+--------------------+----------+\n",
      "|       user_day_code|            stations|round_trip|\n",
      "+--------------------+--------------------+----------+\n",
      "|00001f08f2d92c952...|          [{1, 168}]|     false|\n",
      "|000030519f5ad9c9b...|          [{53, 56}]|     false|\n",
      "|0000467a2b4d460a7...|         [{103, 55}]|     false|\n",
      "|000049d964247d294...|         [{59, 139}]|     false|\n",
      "|00008d71d44d764ea...|          [{23, 19}]|     false|\n",
      "|0000987c66b350b3f...|         [{75, 103}]|     false|\n",
      "|0000a997b548a53c1...|        [{137, 153}]|     false|\n",
      "|0000ab4ce8b17a0a6...|[{42, 113}, {91, ...|     false|\n",
      "|0000cd9044767a1f3...|[{157, 93}, {93, ...|      true|\n",
      "|0000d37943751e6ae...|[{128, 63}, {63, ...|      true|\n",
      "|0001028318cb5f1cf...|         [{107, 66}]|     false|\n",
      "|00013b298e099ca64...|          [{64, 64}]|     false|\n",
      "|00015bc9da21e9e2b...|         [{77, 166}]|     false|\n",
      "|0001a165f20af3d17...|         [{165, 62}]|     false|\n",
      "|0001d7326dbe13518...|[{59, 82}, {89, 1...|     false|\n",
      "|00020f9f14c68c77b...|[{162, 169}, {169...|     false|\n",
      "|0002173c5a82aa601...|          [{56, 18}]|     false|\n",
      "|000221dd3607d8ddb...|          [{35, 33}]|     false|\n",
      "|00023b3e123b9bd9e...|          [{45, 73}]|     false|\n",
      "|00023c56ecaabf967...|          [{86, 80}]|     false|\n",
      "+--------------------+--------------------+----------+\n",
      "only showing top 20 rows\n",
      "\n"
     ]
    },
    {
     "name": "stderr",
     "output_type": "stream",
     "text": [
      "\r",
      "                                                                                \r"
     ]
    }
   ],
   "source": [
    "round_trip_udf = udf(lambda x: round_trip(x), BooleanType())\n",
    "df3 = df2.withColumn('round_trip', round_trip_udf(df2['stations'])).alias('dfgrt')\n",
    "df3.show()"
   ]
  },
  {
   "cell_type": "markdown",
   "id": "16c40196",
   "metadata": {},
   "source": [
    "Por último realizamos el recuento:"
   ]
  },
  {
   "cell_type": "code",
   "execution_count": 67,
   "id": "f0fce0b0",
   "metadata": {},
   "outputs": [
    {
     "name": "stderr",
     "output_type": "stream",
     "text": [
      "[Stage 140:======================================>                  (2 + 1) / 3]\r"
     ]
    },
    {
     "name": "stdout",
     "output_type": "stream",
     "text": [
      "+----------+-------+\n",
      "|round_trip|  count|\n",
      "+----------+-------+\n",
      "|     false|1719318|\n",
      "|      true| 168597|\n",
      "+----------+-------+\n",
      "\n"
     ]
    },
    {
     "name": "stderr",
     "output_type": "stream",
     "text": [
      "\r",
      "                                                                                \r"
     ]
    }
   ],
   "source": [
    "df3.groupBy('round_trip').count().sort('round_trip').show()"
   ]
  },
  {
   "cell_type": "markdown",
   "id": "294695da",
   "metadata": {},
   "source": [
    "Como vemos, se realizan 168597 viajes de ida y vuelta en total."
   ]
  },
  {
   "cell_type": "markdown",
   "id": "8e9d2f46",
   "metadata": {},
   "source": [
    "# Duración de los viajes\n",
    "\n",
    "Vamos a ver la duración de los viajes. Después vamos a categorizarlos para comprobar si son cortos, medios o largos para próximos apartados y vamos a contar cada uno de ellos. La categorización es de la forma:\n",
    "\n",
    "    Corto: duracion < 500s\n",
    "    Medio: 500s <= duracion < 1000\n",
    "    Largo: 1000 <= duracion\n",
    "\n",
    "Definimos la funcion 'cat_time' para cambiar la etiqueta de los viajes según la duración"
   ]
  },
  {
   "cell_type": "code",
   "execution_count": 68,
   "id": "6ba6bcdc",
   "metadata": {},
   "outputs": [],
   "source": [
    "def cat_time(x):\n",
    "    dur = 'Largo'\n",
    "    if int(x) <500:\n",
    "        dur = \"Corto\"\n",
    "    elif int(x)<1000:\n",
    "        dur = \"Medio\"\n",
    "    return dur       "
   ]
  },
  {
   "cell_type": "code",
   "execution_count": 69,
   "id": "3de8affe",
   "metadata": {},
   "outputs": [
    {
     "name": "stdout",
     "output_type": "stream",
     "text": [
      "duracion de los viajes\n"
     ]
    },
    {
     "name": "stderr",
     "output_type": "stream",
     "text": [
      "\r",
      "[Stage 144:>                                                        (0 + 1) / 1]\r"
     ]
    },
    {
     "name": "stdout",
     "output_type": "stream",
     "text": [
      "+--------------------+---------------+\n",
      "|       user_day_code|travel_time_cat|\n",
      "+--------------------+---------------+\n",
      "|b00665a845be18ed9...|          Corto|\n",
      "|65a82ac6353d9e8b2...|          Medio|\n",
      "|51b7da733980586e1...|          Medio|\n",
      "|0af09bb0e23045fb7...|          Medio|\n",
      "|500e6780660a1fb23...|          Corto|\n",
      "|40816bb3978f9931f...|          Corto|\n",
      "|ed325bd1941a25394...|          Corto|\n",
      "|0261bfd1f1bc0a6c5...|          Medio|\n",
      "|1a172d92c5a570303...|          Corto|\n",
      "|b7174a2ee06b23318...|          Corto|\n",
      "|205bd680ee239a407...|          Corto|\n",
      "|64e4785eca75cef74...|          Medio|\n",
      "|a0cf408722fbfa76e...|          Medio|\n",
      "|7f5e1843d0078b858...|          Corto|\n",
      "|c6beca13cd1d76959...|          Corto|\n",
      "|4e6a2792bee3876fb...|          Corto|\n",
      "|ae0f90b2701f9f018...|          Medio|\n",
      "|7c07e33674df07c02...|          Corto|\n",
      "|8bc6e5f0d6574cd4e...|          Corto|\n",
      "|b0ed6e14c736d2935...|          Medio|\n",
      "+--------------------+---------------+\n",
      "only showing top 20 rows\n",
      "\n"
     ]
    },
    {
     "name": "stderr",
     "output_type": "stream",
     "text": [
      "\r",
      "                                                                                \r"
     ]
    }
   ],
   "source": [
    "print('duracion de los viajes')\n",
    "dfd = df.drop(\"ageRange\",\"idplug_station\",\"idunplug_station\",\"user_type\",\"zip_code\")\n",
    "cat_time_udf = udf(lambda x: cat_time(x))\n",
    "dfd2 = dfd.withColumn('travel_time_cat',cat_time_udf(dfd['travel_time']))\n",
    "dfd2 = dfd2.drop('travel_time')\n",
    "dfd2.show()"
   ]
  },
  {
   "cell_type": "code",
   "execution_count": 70,
   "id": "e9068004",
   "metadata": {},
   "outputs": [
    {
     "name": "stdout",
     "output_type": "stream",
     "text": [
      "recuento de viajes por duracion\n"
     ]
    },
    {
     "name": "stderr",
     "output_type": "stream",
     "text": [
      "[Stage 145:======================================================>(57 + 1) / 58]\r"
     ]
    },
    {
     "name": "stdout",
     "output_type": "stream",
     "text": [
      "+---------------+-------+\n",
      "|travel_time_cat|  count|\n",
      "+---------------+-------+\n",
      "|          Medio|1364199|\n",
      "|          Corto|1050310|\n",
      "|          Largo| 843293|\n",
      "+---------------+-------+\n",
      "\n"
     ]
    },
    {
     "name": "stderr",
     "output_type": "stream",
     "text": [
      "\r",
      "                                                                                \r"
     ]
    }
   ],
   "source": [
    "print('recuento de viajes por duracion')\n",
    "dfd2.groupBy('travel_time_cat').count().sort('count',ascending = False).show()"
   ]
  },
  {
   "cell_type": "markdown",
   "id": "09c829d6",
   "metadata": {},
   "source": [
    "Los trayectos de duración media son los más comunes, seguidos de los cortos y por último los largos."
   ]
  },
  {
   "cell_type": "markdown",
   "id": "d1c68d18",
   "metadata": {},
   "source": [
    "# Épocas de mayor y menor uso\n",
    "\n",
    "Vamos a ver cuáles son los días y los meses de mayor y menor uso de BiciMad. \n",
    "La función read_date sirve para quedarnos únicamente con la fecha y read_month para quedarnos con el mes y el año\n"
   ]
  },
  {
   "cell_type": "code",
   "execution_count": 71,
   "id": "0d55ca0d",
   "metadata": {},
   "outputs": [],
   "source": [
    "def read_date(x):\n",
    "    '''\n",
    "    La fecha es de la forma aaaa-mm-ddThh..., por lo que nos quedamos con aaaa-mm-dd\n",
    "    '''\n",
    "    return x[0][0:10]"
   ]
  },
  {
   "cell_type": "code",
   "execution_count": 73,
   "id": "50997a58",
   "metadata": {
    "scrolled": true
   },
   "outputs": [
    {
     "name": "stderr",
     "output_type": "stream",
     "text": [
      "                                                                                \r"
     ]
    },
    {
     "name": "stdout",
     "output_type": "stream",
     "text": [
      "+----------+-----+\n",
      "|      date|count|\n",
      "+----------+-----+\n",
      "|2018-09-27|17103|\n",
      "|2018-09-26|16174|\n",
      "|2018-09-25|15164|\n",
      "|2018-09-19|14942|\n",
      "|2018-05-10|14642|\n",
      "|2018-09-13|14563|\n",
      "|2018-04-25|14529|\n",
      "|2018-09-11|14392|\n",
      "|2018-09-20|14328|\n",
      "|2018-04-26|14242|\n",
      "|2018-09-12|13998|\n",
      "|2018-09-14|13967|\n",
      "|2018-10-03|13884|\n",
      "|2018-05-09|13807|\n",
      "|2018-05-11|13793|\n",
      "|2018-04-18|13756|\n",
      "|2018-04-19|13725|\n",
      "|2018-09-18|13709|\n",
      "|2018-04-24|13683|\n",
      "|2018-10-04|13604|\n",
      "+----------+-----+\n",
      "only showing top 20 rows\n",
      "\n"
     ]
    },
    {
     "name": "stderr",
     "output_type": "stream",
     "text": [
      "[Stage 178:======================================================>(57 + 1) / 58]\r"
     ]
    },
    {
     "name": "stdout",
     "output_type": "stream",
     "text": [
      "+----------+-----+\n",
      "|      date|count|\n",
      "+----------+-----+\n",
      "|2018-05-30|    9|\n",
      "|2018-05-25|   19|\n",
      "|2019-01-01|  160|\n",
      "|2018-08-29|  168|\n",
      "|2018-01-06| 2037|\n",
      "|2018-02-04| 2357|\n",
      "|2018-12-25| 2916|\n",
      "|2018-01-07| 3122|\n",
      "|2018-02-05| 3257|\n",
      "|2018-06-27| 3321|\n",
      "|2018-04-10| 3670|\n",
      "|2018-03-01| 3737|\n",
      "|2018-03-14| 3781|\n",
      "|2018-03-30| 3926|\n",
      "|2018-02-28| 4070|\n",
      "|2018-03-02| 4117|\n",
      "|2018-12-24| 4229|\n",
      "|2018-03-10| 4274|\n",
      "|2018-04-29| 4310|\n",
      "|2018-03-31| 4441|\n",
      "+----------+-----+\n",
      "only showing top 20 rows\n",
      "\n"
     ]
    },
    {
     "name": "stderr",
     "output_type": "stream",
     "text": [
      "\r",
      "                                                                                \r"
     ]
    }
   ],
   "source": [
    "dff = union_archivos()\n",
    "dff = dff.drop('_id','ageRange','user_type','zip_code','idplug_base','idunplug_base','track')\n",
    "read_date_udf = udf(lambda x: read_date(x))  \n",
    "#dff = dff.filter(dff.unplug_hourTime != '')\n",
    "dff2 = dff.withColumn('date',read_date_udf(dff['unplug_hourTime']))\n",
    "dff2.groupBy('date').count().sort('count',ascending = False).show()\n",
    "dff2.groupBy('date').count().sort('count',ascending = True).show()"
   ]
  },
  {
   "cell_type": "markdown",
   "metadata": {},
   "source": [
    "Los días que más se usó BiciMad fueron días de septiembre sobre todo, seguidos de abril, mayo y octubre. Tiene sentido, puesto que son épocas en las que las temperaturas son menos extremas y en las que más apetece un paseo en bicicleta."
   ]
  },
  {
   "cell_type": "code",
   "execution_count": null,
   "metadata": {},
   "outputs": [],
   "source": [
    "dff2.groupBy('date').count().sort('count',ascending = True).show()"
   ]
  },
  {
   "cell_type": "markdown",
   "id": "61e48655",
   "metadata": {},
   "source": [
    "Los resultados devuelven que los días que menos se usó BiciMad son el 30 y el 25 de mayo, el 1 de enero de 2019 y el 29 de agosto. Estos resultados creemos que no son del todo correctos y pueden ser días en los que falló el servicio. \n",
    "\n",
    "A partir de ahí, podemos observar otros días que parecen mucho más sospechosos de tener poco tráfico. Por ejemplo, el 6 de enero (día de los Reyes Magos) o el 25 de diciembre. Sorprende que el 4 y 5 de febrero tengan tan bajos índices de tráfico, hasta que recordamos que el 4 de febrero nevó en Madrid, sería una locura ir en bicicleta con hielo en la carretera, ¿no?"
   ]
  },
  {
   "cell_type": "code",
   "execution_count": 74,
   "id": "dda888d7",
   "metadata": {},
   "outputs": [],
   "source": [
    "def get_month(x):\n",
    "    '''\n",
    "    La fecha es de la forma aaaa-mm-ddThh..., por lo que nos quedamos con aaaa-mm\n",
    "    '''\n",
    "    return x[0][0:7]"
   ]
  },
  {
   "cell_type": "markdown",
   "id": "f502e220",
   "metadata": {},
   "source": [
    "Hacemos el mismo proceso para ver qué meses ha habido más trayectos:"
   ]
  },
  {
   "cell_type": "code",
   "execution_count": 76,
   "id": "422ce87f",
   "metadata": {},
   "outputs": [
    {
     "name": "stderr",
     "output_type": "stream",
     "text": [
      "[Stage 184:>                                                        (0 + 1) / 1]\r"
     ]
    },
    {
     "name": "stdout",
     "output_type": "stream",
     "text": [
      "+-------+------+\n",
      "|  month| count|\n",
      "+-------+------+\n",
      "|2018-09|368645|\n",
      "|2018-10|322584|\n",
      "|2018-07|315045|\n",
      "|2018-04|297437|\n",
      "|2018-06|271517|\n",
      "|2018-01|263702|\n",
      "|2018-05|262978|\n",
      "|2018-11|253664|\n",
      "|2018-02|232103|\n",
      "|2018-12|229507|\n",
      "|2018-08|224767|\n",
      "|2018-03|215693|\n",
      "|2019-01|   160|\n",
      "+-------+------+\n",
      "\n"
     ]
    },
    {
     "name": "stderr",
     "output_type": "stream",
     "text": [
      "\r",
      "                                                                                \r"
     ]
    }
   ],
   "source": [
    "get_month_udf = udf(lambda x: get_month(x))  \n",
    "month_udf = dff.withColumn('month',get_month_udf(dff['unplug_hourTime']))\n",
    "\n",
    "month_udf.groupBy('month').count().sort('count',ascending = False).show()"
   ]
  },
  {
   "cell_type": "markdown",
   "id": "4aec396f",
   "metadata": {},
   "source": [
    "El mes más concurrido fue septiembre, lo cual es comprensible por el buen tiempo y la vuelta a las clases. El que menos fue marzo, sospechamos que puede tener que ver con que Semana Santa cayó en este mes y por la época de alergias que, aunque la temperatura acompañe, no lo hace tanto a la conducción de las bicis. No tenemos en cuenta enero del 2019 porque sólo contabiliza el día 1 de enero."
   ]
  },
  {
   "cell_type": "markdown",
   "id": "17992d4b",
   "metadata": {},
   "source": [
    "# Estaciones más concurridas\n",
    "\n",
    "Vamos a ver cuáles son las estaciones más y menos concurridas. Primero como estación de llegada del viaje:"
   ]
  },
  {
   "cell_type": "code",
   "execution_count": 77,
   "id": "2857c418",
   "metadata": {},
   "outputs": [
    {
     "name": "stderr",
     "output_type": "stream",
     "text": [
      "                                                                                \r"
     ]
    },
    {
     "name": "stdout",
     "output_type": "stream",
     "text": [
      "+--------------+-----+\n",
      "|idplug_station|count|\n",
      "+--------------+-----+\n",
      "|           135|50537|\n",
      "|            43|48124|\n",
      "|           175|48014|\n",
      "|           163|46716|\n",
      "|           129|45538|\n",
      "|            57|44300|\n",
      "|           149|42010|\n",
      "|           168|39838|\n",
      "|           160|35679|\n",
      "|           162|35244|\n",
      "|            58|34071|\n",
      "|            83|33894|\n",
      "|            49|33739|\n",
      "|             9|33522|\n",
      "|            90|33212|\n",
      "|            64|31579|\n",
      "|           132|31115|\n",
      "|             1|31036|\n",
      "|            19|30758|\n",
      "|           128|30576|\n",
      "+--------------+-----+\n",
      "only showing top 20 rows\n",
      "\n"
     ]
    },
    {
     "name": "stderr",
     "output_type": "stream",
     "text": [
      "[Stage 190:======================================================>(57 + 1) / 58]\r"
     ]
    },
    {
     "name": "stdout",
     "output_type": "stream",
     "text": [
      "+--------------+-----+\n",
      "|idplug_station|count|\n",
      "+--------------+-----+\n",
      "|          2008|   17|\n",
      "|            37| 3949|\n",
      "|            28| 4346|\n",
      "|            24| 5049|\n",
      "|           119| 5267|\n",
      "|            23| 5508|\n",
      "|            88| 5848|\n",
      "|            29| 6106|\n",
      "|           144| 6514|\n",
      "|           173| 6864|\n",
      "|           120| 7413|\n",
      "|           104| 8130|\n",
      "|           150| 8147|\n",
      "|            61| 8361|\n",
      "|           105| 8623|\n",
      "|           101| 8680|\n",
      "|           138| 8910|\n",
      "|           107| 9193|\n",
      "|           111| 9557|\n",
      "|           151| 9629|\n",
      "+--------------+-----+\n",
      "only showing top 20 rows\n",
      "\n"
     ]
    },
    {
     "name": "stderr",
     "output_type": "stream",
     "text": [
      "\r",
      "                                                                                \r"
     ]
    }
   ],
   "source": [
    "dff.groupBy('idplug_station').count().sort('count',ascending = False).show()\n",
    "dff.groupBy('idplug_station').count().sort('count',ascending = True).show()"
   ]
  },
  {
   "cell_type": "markdown",
   "id": "fb60f03c",
   "metadata": {},
   "source": [
    "La estación a la que llegan más bicicletas es la 135, y corresponde a una estación entre Nuevos Ministerios y Gregorio Marañón, y de la que menos la 2008."
   ]
  },
  {
   "cell_type": "markdown",
   "id": "b5230bd9",
   "metadata": {},
   "source": [
    "A continuación vemos la más concurrida como estación de origen:"
   ]
  },
  {
   "cell_type": "code",
   "execution_count": 78,
   "id": "f6a3b917",
   "metadata": {
    "scrolled": true
   },
   "outputs": [
    {
     "name": "stderr",
     "output_type": "stream",
     "text": [
      "                                                                                \r"
     ]
    },
    {
     "name": "stdout",
     "output_type": "stream",
     "text": [
      "+----------------+-----+\n",
      "|idunplug_station|count|\n",
      "+----------------+-----+\n",
      "|             135|49188|\n",
      "|             175|46718|\n",
      "|              43|46634|\n",
      "|             163|46604|\n",
      "|             129|45892|\n",
      "|              57|45080|\n",
      "|             149|41878|\n",
      "|             168|39041|\n",
      "|             160|35255|\n",
      "|              58|34797|\n",
      "|             162|34593|\n",
      "|              83|34109|\n",
      "|               9|33941|\n",
      "|              90|33542|\n",
      "|              49|33173|\n",
      "|              64|32526|\n",
      "|              19|31405|\n",
      "|               1|31207|\n",
      "|             132|30969|\n",
      "|             128|30698|\n",
      "+----------------+-----+\n",
      "only showing top 20 rows\n",
      "\n"
     ]
    },
    {
     "name": "stderr",
     "output_type": "stream",
     "text": [
      "[Stage 196:======================================================>(57 + 1) / 58]\r"
     ]
    },
    {
     "name": "stdout",
     "output_type": "stream",
     "text": [
      "+----------------+-----+\n",
      "|idunplug_station|count|\n",
      "+----------------+-----+\n",
      "|            2008|   17|\n",
      "|              37| 3968|\n",
      "|              28| 4502|\n",
      "|              24| 5098|\n",
      "|              88| 5289|\n",
      "|             119| 5405|\n",
      "|              23| 5520|\n",
      "|              29| 6203|\n",
      "|             173| 6883|\n",
      "|             144| 6955|\n",
      "|             120| 7170|\n",
      "|             150| 8034|\n",
      "|              61| 8086|\n",
      "|             104| 8416|\n",
      "|             105| 8688|\n",
      "|             138| 8970|\n",
      "|             146| 9598|\n",
      "|             151| 9693|\n",
      "|             147| 9770|\n",
      "|             101| 9778|\n",
      "+----------------+-----+\n",
      "only showing top 20 rows\n",
      "\n"
     ]
    },
    {
     "name": "stderr",
     "output_type": "stream",
     "text": [
      "\r",
      "                                                                                \r"
     ]
    }
   ],
   "source": [
    "dff.groupBy('idunplug_station').count().sort('count',ascending = False).show()\n",
    "dff.groupBy('idunplug_station').count().sort('count',ascending = True).show()"
   ]
  },
  {
   "cell_type": "markdown",
   "id": "46f6df1b",
   "metadata": {},
   "source": [
    "La estación de la que salen más bicicletas es la 135 y de la que menos la 2008. \n",
    "\n",
    "Es muy interesante que en ambos casos las estaciones son las mismas. "
   ]
  },
  {
   "cell_type": "markdown",
   "id": "7b1b4bfe",
   "metadata": {},
   "source": [
    "# Trayectos según rangos de edad\n",
    "\n",
    "Vamos a comparar la longitud de los trayectos en los diferentes rangos de edad. "
   ]
  },
  {
   "cell_type": "code",
   "execution_count": 79,
   "id": "5c87a797",
   "metadata": {},
   "outputs": [],
   "source": [
    "#Vemos que rango de edad hace los trayectos de mayor duracion\n",
    "df8 = df.drop(\"idplug_station\",\"idunplug_station\",\"user_type\",\"zip_code\")\n",
    "\n",
    "#Categorizamos la duracion de los trayectos y dejamos solo los viajes largos:\n",
    "cat_time_udf = udf(lambda x: cat_time(x))\n",
    "df8 = df8.withColumn('travel_time',cat_time_udf(df8['travel_time']))"
   ]
  },
  {
   "cell_type": "code",
   "execution_count": 80,
   "id": "cb46534f",
   "metadata": {
    "scrolled": true
   },
   "outputs": [
    {
     "name": "stderr",
     "output_type": "stream",
     "text": [
      "[Stage 199:======================================================>(57 + 1) / 58]\r"
     ]
    },
    {
     "name": "stdout",
     "output_type": "stream",
     "text": [
      "+--------+-----------+\n",
      "|ageRange|count_largo|\n",
      "+--------+-----------+\n",
      "|       4|     249720|\n",
      "|       5|     175442|\n",
      "|       3|      46778|\n",
      "|       1|      20170|\n",
      "|       2|       8183|\n",
      "|       6|       3793|\n",
      "+--------+-----------+\n",
      "\n"
     ]
    },
    {
     "name": "stderr",
     "output_type": "stream",
     "text": [
      "\r",
      "                                                                                \r"
     ]
    }
   ],
   "source": [
    "#quitamos el rango de edad 0 ya que se corresponde con las edades desconocidas\n",
    "df_largo = df8.filter((df8[\"travel_time\"]=='Largo')&(df8[\"ageRange\"]!='0'))\n",
    "df_largo2 = df_largo.groupBy('ageRange').count().sort('count',ascending = False).withColumnRenamed('count','count_largo')\n",
    "df_largo2.show()"
   ]
  },
  {
   "cell_type": "markdown",
   "id": "dc174be4",
   "metadata": {},
   "source": [
    "El rango de edad que realiza menos viajes largos son los mayores de 66, lo cual tiene sentido, y el que más los de 27 a 40 años."
   ]
  },
  {
   "cell_type": "code",
   "execution_count": 81,
   "id": "21e7db28",
   "metadata": {},
   "outputs": [
    {
     "name": "stderr",
     "output_type": "stream",
     "text": [
      "[Stage 202:======================================================>(57 + 1) / 58]\r"
     ]
    },
    {
     "name": "stdout",
     "output_type": "stream",
     "text": [
      "+--------+-----------+\n",
      "|ageRange|count_medio|\n",
      "+--------+-----------+\n",
      "|       4|     482713|\n",
      "|       5|     280465|\n",
      "|       3|      87940|\n",
      "|       2|      15048|\n",
      "|       6|       5871|\n",
      "|       1|       3822|\n",
      "+--------+-----------+\n",
      "\n"
     ]
    },
    {
     "name": "stderr",
     "output_type": "stream",
     "text": [
      "\r",
      "                                                                                \r"
     ]
    }
   ],
   "source": [
    "df_medio = df8.filter((df8[\"travel_time\"]=='Medio')&(df8[\"ageRange\"]!='0'))\n",
    "df_medio2 = df_medio.groupBy('ageRange').count().sort('count',ascending = False).withColumnRenamed('count','count_medio')\n",
    "df_medio2.show()"
   ]
  },
  {
   "cell_type": "markdown",
   "id": "9014480b",
   "metadata": {},
   "source": [
    "El rango de edad que realiza menos viajes medios son los de 0 a 16 y el que más los de 27-40 años."
   ]
  },
  {
   "cell_type": "code",
   "execution_count": 82,
   "id": "54e19810",
   "metadata": {
    "scrolled": true
   },
   "outputs": [
    {
     "name": "stderr",
     "output_type": "stream",
     "text": [
      "[Stage 205:======================================================>(57 + 1) / 58]\r"
     ]
    },
    {
     "name": "stdout",
     "output_type": "stream",
     "text": [
      "+--------+-----------+\n",
      "|ageRange|count_corto|\n",
      "+--------+-----------+\n",
      "|       4|     361264|\n",
      "|       5|     205303|\n",
      "|       3|      78048|\n",
      "|       1|      19483|\n",
      "|       2|      14451|\n",
      "|       6|       4446|\n",
      "+--------+-----------+\n",
      "\n"
     ]
    },
    {
     "name": "stderr",
     "output_type": "stream",
     "text": [
      "\r",
      "                                                                                \r"
     ]
    }
   ],
   "source": [
    "df_corto = df8.filter((df8[\"travel_time\"]=='Corto')&(df8[\"ageRange\"]!='0'))\n",
    "df_corto2 = df_corto.groupBy('ageRange').count().sort('count',ascending = False).withColumnRenamed('count','count_corto')\n",
    "df_corto2.show()"
   ]
  },
  {
   "cell_type": "markdown",
   "id": "eda43b1a",
   "metadata": {},
   "source": [
    "El rango de edad que realiza menos viajes largos son los mayores de 66 y el que más los de 27 a 40 años (igual que en los viajes largos)."
   ]
  },
  {
   "cell_type": "markdown",
   "id": "2418e68c",
   "metadata": {},
   "source": [
    "Construimos un dataFrame que nos junte la información para poder compararla."
   ]
  },
  {
   "cell_type": "code",
   "execution_count": 83,
   "id": "eda251bf",
   "metadata": {},
   "outputs": [
    {
     "name": "stderr",
     "output_type": "stream",
     "text": [
      "                                                                                \r"
     ]
    },
    {
     "name": "stdout",
     "output_type": "stream",
     "text": [
      "+--------+-----------+-----------+-----------+\n",
      "|ageRange|count_corto|count_medio|count_largo|\n",
      "+--------+-----------+-----------+-----------+\n",
      "|       1|      19483|       3822|      20170|\n",
      "|       2|      14451|      15048|       8183|\n",
      "|       3|      78048|      87940|      46778|\n",
      "|       4|     361264|     482713|     249720|\n",
      "|       5|     205303|     280465|     175442|\n",
      "|       6|       4446|       5871|       3793|\n",
      "+--------+-----------+-----------+-----------+\n",
      "\n"
     ]
    }
   ],
   "source": [
    "df_aux1 = df_medio2.join(df_largo2, on=['ageRange'], how='left_outer')\n",
    "df_aux2 = df_corto2.join(df_aux1, on=['ageRange'],how='left_outer')\n",
    "\n",
    "df_aux2.sort('ageRange').show()"
   ]
  },
  {
   "cell_type": "markdown",
   "metadata": {},
   "source": [
    "Es cuioso que en el rango 1 (0-16 años) abunden tanto los viajes largos en comparación a los medios. En general, los viajes medios son algo más abundantes que los cortos y los largos son de los que menos cantidad hay."
   ]
  },
  {
   "cell_type": "markdown",
   "id": "cd05874b",
   "metadata": {},
   "source": [
    "# Estudio del rango de edad\n",
    "\n",
    "Vamos a realizar un estudio de los usuarios para cada rango de edad, para obtener la estación más concurrida para cada uno y de donde son residentes dichos usuarios principalmente ."
   ]
  },
  {
   "cell_type": "code",
   "execution_count": 84,
   "id": "3d34f812",
   "metadata": {},
   "outputs": [],
   "source": [
    "def origen(datos,i):\n",
    "    dfe_aux = datos.filter(datos[\"ageRange\"]==i)\n",
    "\n",
    "    #Vamos a ver de qué estación salen los usuarios pertenecientes al grupo de edad i: \n",
    "    dfe_aux.groupBy('idunplug_station').count().sort('count',ascending = False).show() \n",
    "    estacion,count = dfe_aux.groupBy('idunplug_station').count().sort('count',ascending = False).head()  #La estación más usada\n",
    "\n",
    "    dfe_aux = datos.filter(datos[\"idunplug_station\"]==estacion).filter(datos[\"zip_code\"]!='')\n",
    "    dfe_aux.groupBy('zip_code').count().sort('count',ascending = False).show()\n",
    "    codigo, count = dfe_aux.groupBy('zip_code').count().sort('count',ascending = False).head()\n",
    "    return (estacion,codigo)"
   ]
  },
  {
   "cell_type": "code",
   "execution_count": 85,
   "id": "33053015",
   "metadata": {},
   "outputs": [],
   "source": [
    "def destino(datos, i):\n",
    "    dfe_aux = datos.filter(datos[\"ageRange\"]==i)\n",
    "\n",
    "    #Vamos a ver a qué estación llegan los usuarios pertenecientes al grupo de edad i: \n",
    "    dfe_aux.groupBy('idplug_station').count().sort('count',ascending = False)\n",
    "    estacion,count = dfe_aux.groupBy('idplug_station').count().sort('count',ascending = False).head()  #La estación más usada\n",
    "\n",
    "    dfe_aux = datos.filter(datos[\"idplug_station\"]==estacion).filter(datos[\"zip_code\"]!='')\n",
    "    dfe_aux.groupBy('zip_code').count().sort('count',ascending = False)\n",
    "    codigo, count = dfe_aux.groupBy('zip_code').count().sort('count',ascending = False).head()\n",
    "    return (estacion,codigo)"
   ]
  },
  {
   "cell_type": "code",
   "execution_count": 86,
   "id": "03aea5eb",
   "metadata": {},
   "outputs": [
    {
     "name": "stdout",
     "output_type": "stream",
     "text": [
      "Vamos a estudiar el rango de edad 1:\n"
     ]
    },
    {
     "name": "stderr",
     "output_type": "stream",
     "text": [
      "                                                                                \r"
     ]
    },
    {
     "name": "stdout",
     "output_type": "stream",
     "text": [
      "+----------------+-----+\n",
      "|idunplug_station|count|\n",
      "+----------------+-----+\n",
      "|             132| 1191|\n",
      "|             135| 1089|\n",
      "|             129| 1028|\n",
      "|             162|  833|\n",
      "|             108|  770|\n",
      "|             133|  766|\n",
      "|              64|  762|\n",
      "|             168|  742|\n",
      "|              43|  701|\n",
      "|              69|  692|\n",
      "|              82|  649|\n",
      "|              79|  640|\n",
      "|              91|  615|\n",
      "|             175|  577|\n",
      "|              49|  554|\n",
      "|             160|  546|\n",
      "|              78|  544|\n",
      "|              73|  542|\n",
      "|             128|  510|\n",
      "|             136|  502|\n",
      "+----------------+-----+\n",
      "only showing top 20 rows\n",
      "\n"
     ]
    },
    {
     "name": "stderr",
     "output_type": "stream",
     "text": [
      "                                                                                \r"
     ]
    },
    {
     "name": "stdout",
     "output_type": "stream",
     "text": [
      "+--------+-----+\n",
      "|zip_code|count|\n",
      "+--------+-----+\n",
      "|   28008| 4324|\n",
      "|   28005| 1338|\n",
      "|   28012|  903|\n",
      "|   28003|  858|\n",
      "|   28045|  672|\n",
      "|   28015|  629|\n",
      "|   28004|  523|\n",
      "|   28013|  312|\n",
      "|   28011|  304|\n",
      "|   28010|  271|\n",
      "|   28014|  234|\n",
      "|   28007|  208|\n",
      "|   28002|  185|\n",
      "|   28039|  178|\n",
      "|   28001|  169|\n",
      "|   28009|  158|\n",
      "|   28019|  145|\n",
      "|   28922|  125|\n",
      "|   06800|  122|\n",
      "|   28026|  115|\n",
      "+--------+-----+\n",
      "only showing top 20 rows\n",
      "\n"
     ]
    },
    {
     "name": "stderr",
     "output_type": "stream",
     "text": [
      "                                                                                \r"
     ]
    },
    {
     "name": "stdout",
     "output_type": "stream",
     "text": [
      "La estación de origen que toma más comunmente es: 132 y los usuarios provienen principalmente del código postal 28008\n"
     ]
    },
    {
     "name": "stderr",
     "output_type": "stream",
     "text": [
      "                                                                                \r"
     ]
    },
    {
     "name": "stdout",
     "output_type": "stream",
     "text": [
      "+--------------+-----+\n",
      "|idplug_station|count|\n",
      "+--------------+-----+\n",
      "|           129| 1036|\n",
      "|            79|  704|\n",
      "|           168|  671|\n",
      "|            78|  663|\n",
      "|            75|  659|\n",
      "|           109|  653|\n",
      "|           108|  640|\n",
      "|           175|  639|\n",
      "|           160|  563|\n",
      "|            42|  559|\n",
      "|           115|  556|\n",
      "|            34|  551|\n",
      "|           133|  521|\n",
      "|            49|  520|\n",
      "|            77|  520|\n",
      "|           145|  518|\n",
      "|            83|  500|\n",
      "|            43|  497|\n",
      "|           136|  471|\n",
      "|           162|  464|\n",
      "+--------------+-----+\n",
      "only showing top 20 rows\n",
      "\n"
     ]
    },
    {
     "name": "stderr",
     "output_type": "stream",
     "text": [
      "                                                                                \r"
     ]
    },
    {
     "name": "stdout",
     "output_type": "stream",
     "text": [
      "+--------+-----+\n",
      "|zip_code|count|\n",
      "+--------+-----+\n",
      "|   28045|11263|\n",
      "|   28005| 4345|\n",
      "|   28012| 3568|\n",
      "|   28007|  913|\n",
      "|   28015|  832|\n",
      "|   28014|  779|\n",
      "|   28004|  620|\n",
      "|   28013|  411|\n",
      "|   28019|  396|\n",
      "|   28003|  323|\n",
      "|   28028|  263|\n",
      "|   28008|  255|\n",
      "|   28001|  222|\n",
      "|   28010|  208|\n",
      "|   28006|  201|\n",
      "|   28009|  200|\n",
      "|   28021|  159|\n",
      "|   28002|  151|\n",
      "|   28026|  149|\n",
      "|   28020|  127|\n",
      "+--------+-----+\n",
      "only showing top 20 rows\n",
      "\n"
     ]
    },
    {
     "name": "stderr",
     "output_type": "stream",
     "text": [
      "                                                                                \r"
     ]
    },
    {
     "name": "stdout",
     "output_type": "stream",
     "text": [
      "La estación de destino que usada más frecuentemente es: 129 y los usuarios provienen principalmente del código postal 28045\n",
      "Vamos a estudiar el rango de edad 2:\n"
     ]
    },
    {
     "name": "stderr",
     "output_type": "stream",
     "text": [
      "[Stage 240:======================================================>(57 + 1) / 58]\r"
     ]
    },
    {
     "name": "stdout",
     "output_type": "stream",
     "text": [
      "+----------------+-----+\n",
      "|idunplug_station|count|\n",
      "+----------------+-----+\n",
      "|              43|  639|\n",
      "|             133|  602|\n",
      "|             163|  593|\n",
      "|             160|  533|\n",
      "|              58|  507|\n",
      "|              49|  500|\n",
      "|             146|  457|\n",
      "|              81|  457|\n",
      "|             152|  452|\n",
      "|             164|  447|\n",
      "|              26|  443|\n",
      "|              31|  439|\n",
      "|             135|  424|\n",
      "|             157|  417|\n",
      "|               9|  405|\n",
      "|              90|  393|\n",
      "|             129|  386|\n",
      "|              77|  381|\n",
      "|              57|  379|\n",
      "|             168|  377|\n",
      "+----------------+-----+\n",
      "only showing top 20 rows\n",
      "\n"
     ]
    },
    {
     "name": "stderr",
     "output_type": "stream",
     "text": [
      "[Stage 246:======================================================>(57 + 1) / 58]\r"
     ]
    },
    {
     "name": "stdout",
     "output_type": "stream",
     "text": [
      "+--------+-----+\n",
      "|zip_code|count|\n",
      "+--------+-----+\n",
      "|   28005| 9018|\n",
      "|   28012| 2819|\n",
      "|   28004| 1476|\n",
      "|   28015| 1351|\n",
      "|   28045| 1233|\n",
      "|   28008|  828|\n",
      "|   28013|  615|\n",
      "|   28007|  576|\n",
      "|   28001|  502|\n",
      "|   28014|  451|\n",
      "|   28010|  448|\n",
      "|   28011|  390|\n",
      "|   28009|  372|\n",
      "|   28003|  272|\n",
      "|   28028|  250|\n",
      "|   28020|  204|\n",
      "|   28002|  178|\n",
      "|   28019|  141|\n",
      "|   28006|  128|\n",
      "|   28026|  126|\n",
      "+--------+-----+\n",
      "only showing top 20 rows\n",
      "\n"
     ]
    },
    {
     "name": "stderr",
     "output_type": "stream",
     "text": [
      "                                                                                \r"
     ]
    },
    {
     "name": "stdout",
     "output_type": "stream",
     "text": [
      "La estación de origen que toma más comunmente es: 43 y los usuarios provienen principalmente del código postal 28005\n"
     ]
    },
    {
     "name": "stderr",
     "output_type": "stream",
     "text": [
      "                                                                                \r"
     ]
    },
    {
     "name": "stdout",
     "output_type": "stream",
     "text": [
      "+--------------+-----+\n",
      "|idplug_station|count|\n",
      "+--------------+-----+\n",
      "|            49|  607|\n",
      "|           133|  595|\n",
      "|           135|  578|\n",
      "|            43|  539|\n",
      "|           163|  527|\n",
      "|            58|  525|\n",
      "|           160|  506|\n",
      "|            31|  487|\n",
      "|           146|  469|\n",
      "|             9|  458|\n",
      "|            82|  450|\n",
      "|           168|  450|\n",
      "|            78|  445|\n",
      "|            26|  443|\n",
      "|            77|  438|\n",
      "|           157|  426|\n",
      "|           152|  405|\n",
      "|            81|  404|\n",
      "|            75|  399|\n",
      "|            64|  397|\n",
      "+--------------+-----+\n",
      "only showing top 20 rows\n",
      "\n"
     ]
    },
    {
     "name": "stderr",
     "output_type": "stream",
     "text": [
      "                                                                                \r"
     ]
    },
    {
     "name": "stdout",
     "output_type": "stream",
     "text": [
      "+--------+-----+\n",
      "|zip_code|count|\n",
      "+--------+-----+\n",
      "|   28005| 8807|\n",
      "|   28012| 1875|\n",
      "|   28045| 1719|\n",
      "|   28007| 1006|\n",
      "|   28004|  836|\n",
      "|   28015|  760|\n",
      "|   28013|  687|\n",
      "|   28014|  362|\n",
      "|   28011|  342|\n",
      "|   28008|  329|\n",
      "|   28006|  315|\n",
      "|   28003|  295|\n",
      "|   28009|  292|\n",
      "|   28010|  270|\n",
      "|   28019|  241|\n",
      "|   28523|  164|\n",
      "|   28002|  134|\n",
      "|   28028|  133|\n",
      "|   28001|  122|\n",
      "|   28020|  121|\n",
      "+--------+-----+\n",
      "only showing top 20 rows\n",
      "\n"
     ]
    },
    {
     "name": "stderr",
     "output_type": "stream",
     "text": [
      "                                                                                \r"
     ]
    },
    {
     "name": "stdout",
     "output_type": "stream",
     "text": [
      "La estación de destino que usada más frecuentemente es: 49 y los usuarios provienen principalmente del código postal 28005\n",
      "Vamos a estudiar el rango de edad 3:\n"
     ]
    },
    {
     "name": "stderr",
     "output_type": "stream",
     "text": [
      "                                                                                \r"
     ]
    },
    {
     "name": "stdout",
     "output_type": "stream",
     "text": [
      "+----------------+-----+\n",
      "|idunplug_station|count|\n",
      "+----------------+-----+\n",
      "|             160| 3699|\n",
      "|             149| 3124|\n",
      "|             168| 3090|\n",
      "|              43| 2974|\n",
      "|             163| 2765|\n",
      "|              57| 2625|\n",
      "|             129| 2618|\n",
      "|             118| 2539|\n",
      "|              58| 2489|\n",
      "|             161| 2472|\n",
      "|               9| 2417|\n",
      "|              83| 2285|\n",
      "|             131| 2154|\n",
      "|              31| 2145|\n",
      "|               1| 2056|\n",
      "|             162| 2037|\n",
      "|             156| 1969|\n",
      "|             114| 1949|\n",
      "|              90| 1941|\n",
      "|             164| 1914|\n",
      "+----------------+-----+\n",
      "only showing top 20 rows\n",
      "\n"
     ]
    },
    {
     "name": "stderr",
     "output_type": "stream",
     "text": [
      "[Stage 270:======================================================>(57 + 1) / 58]\r"
     ]
    },
    {
     "name": "stdout",
     "output_type": "stream",
     "text": [
      "+--------+-----+\n",
      "|zip_code|count|\n",
      "+--------+-----+\n",
      "|   28015| 4402|\n",
      "|   28003| 4325|\n",
      "|   28004| 1894|\n",
      "|   28005| 1368|\n",
      "|   28010| 1199|\n",
      "|   28008| 1117|\n",
      "|   28012|  910|\n",
      "|   28007|  765|\n",
      "|   28020|  524|\n",
      "|   28045|  447|\n",
      "|   28040|  402|\n",
      "|   28006|  371|\n",
      "|   28028|  329|\n",
      "|   28013|  262|\n",
      "|   28009|  262|\n",
      "|   28046|  202|\n",
      "|   28037|  187|\n",
      "|   28039|  187|\n",
      "|   28043|  182|\n",
      "|   28001|  169|\n",
      "+--------+-----+\n",
      "only showing top 20 rows\n",
      "\n"
     ]
    },
    {
     "name": "stderr",
     "output_type": "stream",
     "text": [
      "                                                                                \r"
     ]
    },
    {
     "name": "stdout",
     "output_type": "stream",
     "text": [
      "La estación de origen que toma más comunmente es: 160 y los usuarios provienen principalmente del código postal 28015\n"
     ]
    },
    {
     "name": "stderr",
     "output_type": "stream",
     "text": [
      "                                                                                \r"
     ]
    },
    {
     "name": "stdout",
     "output_type": "stream",
     "text": [
      "+--------------+-----+\n",
      "|idplug_station|count|\n",
      "+--------------+-----+\n",
      "|           160| 3974|\n",
      "|           129| 3194|\n",
      "|           168| 3179|\n",
      "|           149| 3110|\n",
      "|            83| 2965|\n",
      "|            43| 2939|\n",
      "|           163| 2892|\n",
      "|           132| 2853|\n",
      "|           118| 2711|\n",
      "|           135| 2496|\n",
      "|            57| 2429|\n",
      "|           162| 2350|\n",
      "|           114| 2309|\n",
      "|           133| 2287|\n",
      "|            58| 2231|\n",
      "|           131| 2223|\n",
      "|             9| 2195|\n",
      "|            79| 2163|\n",
      "|           175| 2162|\n",
      "|            82| 2158|\n",
      "+--------------+-----+\n",
      "only showing top 20 rows\n",
      "\n"
     ]
    },
    {
     "name": "stderr",
     "output_type": "stream",
     "text": [
      "                                                                                \r"
     ]
    },
    {
     "name": "stdout",
     "output_type": "stream",
     "text": [
      "+--------+-----+\n",
      "|zip_code|count|\n",
      "+--------+-----+\n",
      "|   28015| 5139|\n",
      "|   28003| 4083|\n",
      "|   28004| 1688|\n",
      "|   28010| 1286|\n",
      "|   28008| 1286|\n",
      "|   28005| 1120|\n",
      "|   28012|  799|\n",
      "|   28007|  629|\n",
      "|   28020|  576|\n",
      "|   28040|  416|\n",
      "|   28045|  379|\n",
      "|   28009|  313|\n",
      "|   28013|  288|\n",
      "|   28006|  272|\n",
      "|   28028|  256|\n",
      "|   28039|  253|\n",
      "|   28002|  220|\n",
      "|   28046|  201|\n",
      "|   28043|  200|\n",
      "|   28037|  176|\n",
      "+--------+-----+\n",
      "only showing top 20 rows\n",
      "\n"
     ]
    },
    {
     "name": "stderr",
     "output_type": "stream",
     "text": [
      "                                                                                \r"
     ]
    },
    {
     "name": "stdout",
     "output_type": "stream",
     "text": [
      "La estación de destino que usada más frecuentemente es: 160 y los usuarios provienen principalmente del código postal 28015\n",
      "Vamos a estudiar el rango de edad 4:\n"
     ]
    },
    {
     "name": "stderr",
     "output_type": "stream",
     "text": [
      "                                                                                \r"
     ]
    },
    {
     "name": "stdout",
     "output_type": "stream",
     "text": [
      "+----------------+-----+\n",
      "|idunplug_station|count|\n",
      "+----------------+-----+\n",
      "|             129|19008|\n",
      "|             135|17952|\n",
      "|             163|16839|\n",
      "|              57|16524|\n",
      "|              43|15774|\n",
      "|             175|15261|\n",
      "|             149|13612|\n",
      "|             168|12491|\n",
      "|             128|12410|\n",
      "|              58|11864|\n",
      "|              83|11674|\n",
      "|               9|11623|\n",
      "|             160|11427|\n",
      "|              49|10953|\n",
      "|             136|10830|\n",
      "|              90|10713|\n",
      "|             162|10701|\n",
      "|             133|10413|\n",
      "|              41|10230|\n",
      "|              13|10210|\n",
      "+----------------+-----+\n",
      "only showing top 20 rows\n",
      "\n"
     ]
    },
    {
     "name": "stderr",
     "output_type": "stream",
     "text": [
      "                                                                                \r"
     ]
    },
    {
     "name": "stdout",
     "output_type": "stream",
     "text": [
      "+--------+-----+\n",
      "|zip_code|count|\n",
      "+--------+-----+\n",
      "|   28045| 8651|\n",
      "|   28005| 4391|\n",
      "|   28012| 3640|\n",
      "|   28007|  800|\n",
      "|   28014|  754|\n",
      "|   28015|  695|\n",
      "|   28004|  530|\n",
      "|   28013|  460|\n",
      "|   28003|  329|\n",
      "|   28001|  254|\n",
      "|   28008|  249|\n",
      "|   28006|  236|\n",
      "|   28019|  219|\n",
      "|   28028|  204|\n",
      "|   28021|  184|\n",
      "|   28039|  158|\n",
      "|   28010|  148|\n",
      "|   28002|  140|\n",
      "|   28009|  137|\n",
      "|   28026|  130|\n",
      "+--------+-----+\n",
      "only showing top 20 rows\n",
      "\n"
     ]
    },
    {
     "name": "stderr",
     "output_type": "stream",
     "text": [
      "                                                                                \r"
     ]
    },
    {
     "name": "stdout",
     "output_type": "stream",
     "text": [
      "La estación de origen que toma más comunmente es: 129 y los usuarios provienen principalmente del código postal 28045\n"
     ]
    },
    {
     "name": "stderr",
     "output_type": "stream",
     "text": [
      "                                                                                \r"
     ]
    },
    {
     "name": "stdout",
     "output_type": "stream",
     "text": [
      "+--------------+-----+\n",
      "|idplug_station|count|\n",
      "+--------------+-----+\n",
      "|           129|18613|\n",
      "|            43|18070|\n",
      "|           163|17716|\n",
      "|            57|16473|\n",
      "|           135|16347|\n",
      "|           175|15449|\n",
      "|           149|13786|\n",
      "|           168|13059|\n",
      "|             9|12244|\n",
      "|            58|12144|\n",
      "|           128|11549|\n",
      "|           160|11523|\n",
      "|            90|10836|\n",
      "|            41|10738|\n",
      "|            59|10525|\n",
      "|            13|10493|\n",
      "|            49|10389|\n",
      "|            83|10320|\n",
      "|           133| 9989|\n",
      "|            56| 9925|\n",
      "+--------------+-----+\n",
      "only showing top 20 rows\n",
      "\n"
     ]
    },
    {
     "name": "stderr",
     "output_type": "stream",
     "text": [
      "                                                                                \r"
     ]
    },
    {
     "name": "stdout",
     "output_type": "stream",
     "text": [
      "+--------+-----+\n",
      "|zip_code|count|\n",
      "+--------+-----+\n",
      "|   28045|11263|\n",
      "|   28005| 4345|\n",
      "|   28012| 3568|\n",
      "|   28007|  913|\n",
      "|   28015|  832|\n",
      "|   28014|  779|\n",
      "|   28004|  620|\n",
      "|   28013|  411|\n",
      "|   28019|  396|\n",
      "|   28003|  323|\n",
      "|   28028|  263|\n",
      "|   28008|  255|\n",
      "|   28001|  222|\n",
      "|   28010|  208|\n",
      "|   28006|  201|\n",
      "|   28009|  200|\n",
      "|   28021|  159|\n",
      "|   28002|  151|\n",
      "|   28026|  149|\n",
      "|   28020|  127|\n",
      "+--------+-----+\n",
      "only showing top 20 rows\n",
      "\n"
     ]
    },
    {
     "name": "stderr",
     "output_type": "stream",
     "text": [
      "                                                                                \r"
     ]
    },
    {
     "name": "stdout",
     "output_type": "stream",
     "text": [
      "La estación de destino que usada más frecuentemente es: 129 y los usuarios provienen principalmente del código postal 28045\n",
      "Vamos a estudiar el rango de edad 5:\n"
     ]
    },
    {
     "name": "stderr",
     "output_type": "stream",
     "text": [
      "                                                                                \r"
     ]
    },
    {
     "name": "stdout",
     "output_type": "stream",
     "text": [
      "+----------------+-----+\n",
      "|idunplug_station|count|\n",
      "+----------------+-----+\n",
      "|             135|10488|\n",
      "|             175| 9490|\n",
      "|             129| 9289|\n",
      "|              57| 8858|\n",
      "|             163| 8735|\n",
      "|              83| 8147|\n",
      "|              49| 7928|\n",
      "|              43| 7901|\n",
      "|             132| 7678|\n",
      "|              90| 7253|\n",
      "|             133| 7118|\n",
      "|             149| 7064|\n",
      "|              19| 6994|\n",
      "|              41| 6892|\n",
      "|              64| 6774|\n",
      "|             160| 6577|\n",
      "|             164| 6341|\n",
      "|             168| 6303|\n",
      "|             108| 6281|\n",
      "|             128| 6123|\n",
      "+----------------+-----+\n",
      "only showing top 20 rows\n",
      "\n"
     ]
    },
    {
     "name": "stderr",
     "output_type": "stream",
     "text": [
      "                                                                                \r"
     ]
    },
    {
     "name": "stdout",
     "output_type": "stream",
     "text": [
      "+--------+-----+\n",
      "|zip_code|count|\n",
      "+--------+-----+\n",
      "|   28045| 5962|\n",
      "|   28012| 2830|\n",
      "|   28005| 2679|\n",
      "|   28026| 1120|\n",
      "|   28004| 1048|\n",
      "|   28007|  960|\n",
      "|   28013|  549|\n",
      "|   28010|  482|\n",
      "|   28003|  473|\n",
      "|   28014|  457|\n",
      "|   28009|  405|\n",
      "|   28008|  359|\n",
      "|   28015|  355|\n",
      "|   28400|  272|\n",
      "|   28011|  209|\n",
      "|   28020|  204|\n",
      "|   28001|  188|\n",
      "|   28019|  178|\n",
      "|   28028|  148|\n",
      "|   28039|  137|\n",
      "+--------+-----+\n",
      "only showing top 20 rows\n",
      "\n"
     ]
    },
    {
     "name": "stderr",
     "output_type": "stream",
     "text": [
      "                                                                                \r"
     ]
    },
    {
     "name": "stdout",
     "output_type": "stream",
     "text": [
      "La estación de origen que toma más comunmente es: 135 y los usuarios provienen principalmente del código postal 28045\n"
     ]
    },
    {
     "name": "stderr",
     "output_type": "stream",
     "text": [
      "                                                                                \r"
     ]
    },
    {
     "name": "stdout",
     "output_type": "stream",
     "text": [
      "+--------------+-----+\n",
      "|idplug_station|count|\n",
      "+--------------+-----+\n",
      "|            57| 8955|\n",
      "|           163| 8688|\n",
      "|           135| 8644|\n",
      "|            49| 8526|\n",
      "|            43| 8235|\n",
      "|           129| 8079|\n",
      "|            83| 7704|\n",
      "|            90| 7701|\n",
      "|           175| 7615|\n",
      "|            41| 7307|\n",
      "|            19| 7149|\n",
      "|           149| 6886|\n",
      "|           168| 6884|\n",
      "|            64| 6670|\n",
      "|           133| 6480|\n",
      "|           108| 6331|\n",
      "|           161| 6178|\n",
      "|             9| 6120|\n",
      "|           160| 5933|\n",
      "|           164| 5928|\n",
      "+--------------+-----+\n",
      "only showing top 20 rows\n",
      "\n"
     ]
    },
    {
     "name": "stderr",
     "output_type": "stream",
     "text": [
      "[Stage 330:======================================================>(57 + 1) / 58]\r"
     ]
    },
    {
     "name": "stdout",
     "output_type": "stream",
     "text": [
      "+--------+-----+\n",
      "|zip_code|count|\n",
      "+--------+-----+\n",
      "|   28012|10957|\n",
      "|   28005| 2296|\n",
      "|   28045| 2052|\n",
      "|   28004| 1726|\n",
      "|   28007|  979|\n",
      "|   28015|  784|\n",
      "|   28010|  565|\n",
      "|   28014|  553|\n",
      "|   28003|  485|\n",
      "|   28013|  456|\n",
      "|   28009|  414|\n",
      "|   28008|  363|\n",
      "|   28020|  334|\n",
      "|   28001|  235|\n",
      "|   28006|  196|\n",
      "|   28028|  176|\n",
      "|   28039|  170|\n",
      "|   28016|  168|\n",
      "|   28002|  164|\n",
      "|   28019|  137|\n",
      "+--------+-----+\n",
      "only showing top 20 rows\n",
      "\n"
     ]
    },
    {
     "name": "stderr",
     "output_type": "stream",
     "text": [
      "                                                                                \r"
     ]
    },
    {
     "name": "stdout",
     "output_type": "stream",
     "text": [
      "La estación de destino que usada más frecuentemente es: 57 y los usuarios provienen principalmente del código postal 28012\n",
      "Vamos a estudiar el rango de edad 6:\n"
     ]
    },
    {
     "name": "stderr",
     "output_type": "stream",
     "text": [
      "                                                                                \r"
     ]
    },
    {
     "name": "stdout",
     "output_type": "stream",
     "text": [
      "+----------------+-----+\n",
      "|idunplug_station|count|\n",
      "+----------------+-----+\n",
      "|             113|  304|\n",
      "|             163|  304|\n",
      "|             164|  289|\n",
      "|              13|  258|\n",
      "|             135|  251|\n",
      "|             104|  247|\n",
      "|              30|  240|\n",
      "|              44|  233|\n",
      "|              27|  225|\n",
      "|             103|  215|\n",
      "|             161|  213|\n",
      "|             122|  209|\n",
      "|             149|  203|\n",
      "|             171|  199|\n",
      "|              65|  197|\n",
      "|              49|  193|\n",
      "|              97|  191|\n",
      "|              83|  183|\n",
      "|               9|  179|\n",
      "|              14|  177|\n",
      "+----------------+-----+\n",
      "only showing top 20 rows\n",
      "\n"
     ]
    },
    {
     "name": "stderr",
     "output_type": "stream",
     "text": [
      "                                                                                \r"
     ]
    },
    {
     "name": "stdout",
     "output_type": "stream",
     "text": [
      "+--------+-----+\n",
      "|zip_code|count|\n",
      "+--------+-----+\n",
      "|   28001| 2297|\n",
      "|   28007| 1343|\n",
      "|   28012| 1026|\n",
      "|   28004|  867|\n",
      "|   28009|  720|\n",
      "|   28005|  608|\n",
      "|   28010|  414|\n",
      "|   28045|  400|\n",
      "|   28006|  358|\n",
      "|   28028|  327|\n",
      "|   28014|  315|\n",
      "|   28016|  315|\n",
      "|   28020|  290|\n",
      "|   28015|  284|\n",
      "|   28013|  221|\n",
      "|   28002|  219|\n",
      "|   28003|  193|\n",
      "|   28008|  121|\n",
      "|   28023|   82|\n",
      "|   28000|   66|\n",
      "+--------+-----+\n",
      "only showing top 20 rows\n",
      "\n"
     ]
    },
    {
     "name": "stderr",
     "output_type": "stream",
     "text": [
      "                                                                                \r"
     ]
    },
    {
     "name": "stdout",
     "output_type": "stream",
     "text": [
      "La estación de origen que toma más comunmente es: 113 y los usuarios provienen principalmente del código postal 28001\n"
     ]
    },
    {
     "name": "stderr",
     "output_type": "stream",
     "text": [
      "[Stage 348:======================================================>(57 + 1) / 58]\r"
     ]
    },
    {
     "name": "stdout",
     "output_type": "stream",
     "text": [
      "+--------------+-----+\n",
      "|idplug_station|count|\n",
      "+--------------+-----+\n",
      "|           160|  379|\n",
      "|            30|  330|\n",
      "|           164|  295|\n",
      "|           163|  291|\n",
      "|           135|  278|\n",
      "|           113|  263|\n",
      "|            83|  256|\n",
      "|           104|  248|\n",
      "|           103|  235|\n",
      "|           161|  230|\n",
      "|            97|  208|\n",
      "|            44|  206|\n",
      "|           168|  201|\n",
      "|            64|  201|\n",
      "|            27|  197|\n",
      "|            65|  182|\n",
      "|            13|  181|\n",
      "|            74|  180|\n",
      "|            38|  179|\n",
      "|            73|  176|\n",
      "+--------------+-----+\n",
      "only showing top 20 rows\n",
      "\n"
     ]
    },
    {
     "name": "stderr",
     "output_type": "stream",
     "text": [
      "                                                                                \r"
     ]
    },
    {
     "name": "stdout",
     "output_type": "stream",
     "text": [
      "+--------+-----+\n",
      "|zip_code|count|\n",
      "+--------+-----+\n",
      "|   28015| 5139|\n",
      "|   28003| 4083|\n",
      "|   28004| 1688|\n",
      "|   28010| 1286|\n",
      "|   28008| 1286|\n",
      "|   28005| 1120|\n",
      "|   28012|  799|\n",
      "|   28007|  629|\n",
      "|   28020|  576|\n",
      "|   28040|  416|\n",
      "|   28045|  379|\n",
      "|   28009|  313|\n",
      "|   28013|  288|\n",
      "|   28006|  272|\n",
      "|   28028|  256|\n",
      "|   28039|  253|\n",
      "|   28002|  220|\n",
      "|   28046|  201|\n",
      "|   28043|  200|\n",
      "|   28037|  176|\n",
      "+--------+-----+\n",
      "only showing top 20 rows\n",
      "\n"
     ]
    },
    {
     "name": "stderr",
     "output_type": "stream",
     "text": [
      "[Stage 357:======================================================>(57 + 1) / 58]\r"
     ]
    },
    {
     "name": "stdout",
     "output_type": "stream",
     "text": [
      "La estación de destino que usada más frecuentemente es: 160 y los usuarios provienen principalmente del código postal 28015\n"
     ]
    },
    {
     "name": "stderr",
     "output_type": "stream",
     "text": [
      "\r",
      "                                                                                \r"
     ]
    }
   ],
   "source": [
    "print(\"Este apartado tarda\")\n",
    "for i in [1,2,3,4,5,6]:\n",
    "    print(f\"Vamos a estudiar el rango de edad {i}:\")\n",
    "    \n",
    "    est,cod = origen(df,i)\n",
    "    print(f\"La estación de origen que toma más comunmente es: {est} y los usuarios provienen principalmente del código postal {cod}\")\n",
    "        \n",
    "    est,cod = destino(df,i)\n",
    "    print(f\"La estación de destino que usada más frecuentemente es: {est} y los usuarios provienen principalmente del código postal {cod}\")\n",
    "    "
   ]
  },
  {
   "cell_type": "code",
   "execution_count": null,
   "id": "7183189a",
   "metadata": {},
   "outputs": [],
   "source": []
  }
 ],
 "metadata": {
  "kernelspec": {
   "display_name": "Python 3",
   "language": "python",
   "name": "python3"
  },
  "language_info": {
   "codemirror_mode": {
    "name": "ipython",
    "version": 3
   },
   "file_extension": ".py",
   "mimetype": "text/x-python",
   "name": "python",
   "nbconvert_exporter": "python",
   "pygments_lexer": "ipython3",
   "version": "3.8.5"
  }
 },
 "nbformat": 4,
 "nbformat_minor": 5
}
